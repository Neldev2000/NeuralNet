{
  "nbformat": 4,
  "nbformat_minor": 0,
  "metadata": {
    "colab": {
      "name": "MNIST Classifier Chapter 3.ipynb",
      "version": "0.3.2",
      "provenance": [],
      "collapsed_sections": [],
      "include_colab_link": true
    },
    "kernelspec": {
      "name": "python3",
      "display_name": "Python 3"
    },
    "accelerator": "GPU"
  },
  "cells": [
    {
      "cell_type": "markdown",
      "metadata": {
        "id": "view-in-github",
        "colab_type": "text"
      },
      "source": [
        "<a href=\"https://colab.research.google.com/github/Neldev2000/NeuralNet/blob/master/MNIST_Classifier_Chapter_3.ipynb\" target=\"_parent\"><img src=\"https://colab.research.google.com/assets/colab-badge.svg\" alt=\"Open In Colab\"/></a>"
      ]
    },
    {
      "cell_type": "code",
      "metadata": {
        "id": "M2zkb5P1QTRV",
        "colab_type": "code",
        "colab": {
          "base_uri": "https://localhost:8080/",
          "height": 136
        },
        "outputId": "03cc63e9-8953-4427-d8a3-255bffc8ebdd"
      },
      "source": [
        "from sklearn.datasets import fetch_openml\n",
        "\n",
        "X,y = fetch_openml('mnist_784', version = 1, return_X_y = True)\n",
        "y = y.astype(int)\n",
        "X"
      ],
      "execution_count": 43,
      "outputs": [
        {
          "output_type": "execute_result",
          "data": {
            "text/plain": [
              "array([[0., 0., 0., ..., 0., 0., 0.],\n",
              "       [0., 0., 0., ..., 0., 0., 0.],\n",
              "       [0., 0., 0., ..., 0., 0., 0.],\n",
              "       ...,\n",
              "       [0., 0., 0., ..., 0., 0., 0.],\n",
              "       [0., 0., 0., ..., 0., 0., 0.],\n",
              "       [0., 0., 0., ..., 0., 0., 0.]])"
            ]
          },
          "metadata": {
            "tags": []
          },
          "execution_count": 43
        }
      ]
    },
    {
      "cell_type": "code",
      "metadata": {
        "id": "FYKxIobNQ_6U",
        "colab_type": "code",
        "colab": {
          "base_uri": "https://localhost:8080/",
          "height": 34
        },
        "outputId": "7d76f27d-da01-4cc3-98a4-50c31b4cf916"
      },
      "source": [
        "X.shape"
      ],
      "execution_count": 2,
      "outputs": [
        {
          "output_type": "execute_result",
          "data": {
            "text/plain": [
              "(70000, 784)"
            ]
          },
          "metadata": {
            "tags": []
          },
          "execution_count": 2
        }
      ]
    },
    {
      "cell_type": "code",
      "metadata": {
        "id": "sQpsEkiVRECd",
        "colab_type": "code",
        "colab": {
          "base_uri": "https://localhost:8080/",
          "height": 282
        },
        "outputId": "aeeffa78-00fc-4297-9f44-76dad484e08f"
      },
      "source": [
        "%matplotlib inline\n",
        "import matplotlib\n",
        "import matplotlib.pyplot as plt\n",
        "\n",
        "some_digit = X[36800]\n",
        "some_digit_image = some_digit.reshape(28,28)\n",
        "\n",
        "plt.imshow(some_digit_image,\n",
        "           cmap = matplotlib.cm.binary,\n",
        "           interpolation = 'nearest')\n",
        "plt.axis('off')\n",
        "print(y[:10])"
      ],
      "execution_count": 44,
      "outputs": [
        {
          "output_type": "stream",
          "text": [
            "[5 0 4 1 9 2 1 3 1 4]\n"
          ],
          "name": "stdout"
        },
        {
          "output_type": "display_data",
          "data": {
            "image/png": "[encoded data removed]",
            "text/plain": [
              "<Figure size 432x288 with 1 Axes>"
            ]
          },
          "metadata": {
            "tags": []
          }
        }
      ]
    },
    {
      "cell_type": "markdown",
      "metadata": {
        "id": "OlqPZsbTSOG5",
        "colab_type": "text"
      },
      "source": [
        "## Split data into test and train sets"
      ]
    },
    {
      "cell_type": "markdown",
      "metadata": {
        "id": "Lrf73OG5ShvQ",
        "colab_type": "text"
      },
      "source": [
        "The data is already divided into train and test set. THe first 60,000 images are the training images and the other 10,000 are test ones "
      ]
    },
    {
      "cell_type": "code",
      "metadata": {
        "id": "u6owGnVdSBoB",
        "colab_type": "code",
        "colab": {}
      },
      "source": [
        "X_train, X_test = X[:60000], X[60000:]\n",
        "y_train, y_test = y[:60000], y[60000:]"
      ],
      "execution_count": 0,
      "outputs": []
    },
    {
      "cell_type": "markdown",
      "metadata": {
        "id": "voBaYCOQTAV_",
        "colab_type": "text"
      },
      "source": [
        "Let's shuffle the training set, just to get a better distribution"
      ]
    },
    {
      "cell_type": "code",
      "metadata": {
        "id": "wN3soQckS-E4",
        "colab_type": "code",
        "colab": {}
      },
      "source": [
        "import numpy as np\n",
        "\n",
        "shuffle_index = np.random.permutation(60000)\n",
        "\n",
        "X_train, y_train = X_train[shuffle_index], y_train[shuffle_index]"
      ],
      "execution_count": 0,
      "outputs": []
    },
    {
      "cell_type": "code",
      "metadata": {
        "id": "IpJW6_waUjKM",
        "colab_type": "code",
        "colab": {
          "base_uri": "https://localhost:8080/",
          "height": 34
        },
        "outputId": "d759d79c-5082-4eb9-9666-938cfe15d72d"
      },
      "source": [
        "y_train "
      ],
      "execution_count": 47,
      "outputs": [
        {
          "output_type": "execute_result",
          "data": {
            "text/plain": [
              "array([3, 0, 0, ..., 6, 5, 5])"
            ]
          },
          "metadata": {
            "tags": []
          },
          "execution_count": 47
        }
      ]
    },
    {
      "cell_type": "markdown",
      "metadata": {
        "id": "2AiBFzqwTdho",
        "colab_type": "text"
      },
      "source": [
        "# Training a Binary Classifier"
      ]
    },
    {
      "cell_type": "markdown",
      "metadata": {
        "id": "z9A7mZG-Thmn",
        "colab_type": "text"
      },
      "source": [
        "To reduce the problem a little bit, we are going to train a binary classifier, it means, a model that predicts if some digit is in a certain group or not\n",
        "\n",
        "In this example, we are going to predict if a digit is a 5 or not."
      ]
    },
    {
      "cell_type": "code",
      "metadata": {
        "id": "Xpu-InTfUNH-",
        "colab_type": "code",
        "colab": {}
      },
      "source": [
        "y_train_5 = y_train == 5\n",
        "y_test_5  = y_test  == 5"
      ],
      "execution_count": 0,
      "outputs": []
    },
    {
      "cell_type": "markdown",
      "metadata": {
        "id": "FLI_QJaRYUTl",
        "colab_type": "text"
      },
      "source": [
        "The classifier we are gonna choose is the SGD Classifier because it is vert efficient with large datasets"
      ]
    },
    {
      "cell_type": "code",
      "metadata": {
        "id": "ntVy_U9hUV-e",
        "colab_type": "code",
        "colab": {
          "base_uri": "https://localhost:8080/",
          "height": 119
        },
        "outputId": "1be1d587-1517-457a-ba72-7073933c0aba"
      },
      "source": [
        "from sklearn.linear_model import SGDClassifier\n",
        "\n",
        "sgd_clf = SGDClassifier(random_state = 42)\n",
        "\n",
        "sgd_clf.fit(X_train, y_train_5)"
      ],
      "execution_count": 51,
      "outputs": [
        {
          "output_type": "execute_result",
          "data": {
            "text/plain": [
              "SGDClassifier(alpha=0.0001, average=False, class_weight=None,\n",
              "              early_stopping=False, epsilon=0.1, eta0=0.0, fit_intercept=True,\n",
              "              l1_ratio=0.15, learning_rate='optimal', loss='hinge',\n",
              "              max_iter=1000, n_iter_no_change=5, n_jobs=None, penalty='l2',\n",
              "              power_t=0.5, random_state=42, shuffle=True, tol=0.001,\n",
              "              validation_fraction=0.1, verbose=0, warm_start=False)"
            ]
          },
          "metadata": {
            "tags": []
          },
          "execution_count": 51
        }
      ]
    },
    {
      "cell_type": "code",
      "metadata": {
        "id": "rItSth73Y5Or",
        "colab_type": "code",
        "colab": {
          "base_uri": "https://localhost:8080/",
          "height": 34
        },
        "outputId": "43bb1596-fc65-4783-9a59-fc7e4c5b4015"
      },
      "source": [
        "sgd_clf.predict([some_digit])"
      ],
      "execution_count": 53,
      "outputs": [
        {
          "output_type": "execute_result",
          "data": {
            "text/plain": [
              "array([ True])"
            ]
          },
          "metadata": {
            "tags": []
          },
          "execution_count": 53
        }
      ]
    },
    {
      "cell_type": "markdown",
      "metadata": {
        "id": "FK4vI19VZKFk",
        "colab_type": "text"
      },
      "source": [
        "##Performance Measures"
      ]
    },
    {
      "cell_type": "markdown",
      "metadata": {
        "id": "ZsX1GGk2ZXyK",
        "colab_type": "text"
      },
      "source": [
        "### Measuring Accuracy with Cross-Validation"
      ]
    },
    {
      "cell_type": "code",
      "metadata": {
        "id": "dHPx6UELZwYZ",
        "colab_type": "code",
        "colab": {}
      },
      "source": [
        "#Creating self cross-validation function for more control\n",
        "from sklearn.model_selection import StratifiedKFold\n",
        "from sklearn.base import clone\n",
        "def my_cross_val_score(model, train_set, train_labels, \n",
        "                       cv, random_state = 42):\n",
        "  skfolds = StratifiedKFold(n_splits = cv, random_state  = random_state)\n",
        "  \n",
        "  results = []\n",
        "  \n",
        "  for train_index, test_index in skfolds.split(train_set, train_labels):\n",
        "    clone_clf = clone(model)\n",
        "    \n",
        "    x_train_folds = train_set[train_index]\n",
        "    y_train_folds = train_labels[train_index]\n",
        "    \n",
        "    x_test_fold = train_set[test_index]\n",
        "    y_test_fold = train_labels[test_index]\n",
        "    \n",
        "    clone_clf.fit(x_train_folds, y_train_folds)\n",
        "    y_pred = clone_clf.predict(x_test_fold)\n",
        "    \n",
        "    n_correct = sum( y_pred == y_test_fold )\n",
        "    results.append( n_correct / len(y_pred) )\n",
        "  return results\n",
        "  "
      ],
      "execution_count": 0,
      "outputs": []
    },
    {
      "cell_type": "code",
      "metadata": {
        "id": "o-U8AiVxbjL9",
        "colab_type": "code",
        "colab": {
          "base_uri": "https://localhost:8080/",
          "height": 34
        },
        "outputId": "f7b0eb34-a79c-4b4d-e102-28d0de7c42b4"
      },
      "source": [
        "my_cross_val_score(sgd_clf, X_train, y_train_5, cv = 3)"
      ],
      "execution_count": 61,
      "outputs": [
        {
          "output_type": "execute_result",
          "data": {
            "text/plain": [
              "[0.94645, 0.9646, 0.9584]"
            ]
          },
          "metadata": {
            "tags": []
          },
          "execution_count": 61
        }
      ]
    },
    {
      "cell_type": "code",
      "metadata": {
        "id": "60fdL_vrcHes",
        "colab_type": "code",
        "colab": {
          "base_uri": "https://localhost:8080/",
          "height": 34
        },
        "outputId": "4ba4de13-7a04-44f4-ad84-9012f7583639"
      },
      "source": [
        "from sklearn.model_selection import cross_val_score\n",
        "\n",
        "cross_val_score(sgd_clf, X_train, y_train_5,\n",
        "                cv = 3,\n",
        "                scoring = 'accuracy')"
      ],
      "execution_count": 65,
      "outputs": [
        {
          "output_type": "execute_result",
          "data": {
            "text/plain": [
              "array([0.94645, 0.9646 , 0.9584 ])"
            ]
          },
          "metadata": {
            "tags": []
          },
          "execution_count": 65
        }
      ]
    },
    {
      "cell_type": "markdown",
      "metadata": {
        "id": "PLfvzfITcv9C",
        "colab_type": "text"
      },
      "source": [
        "This accuracy is really impresive, over 90%. But ther's a trick.\n",
        "\n",
        "Since our model just predict a true or false question, just by guessing we could get a really high accuracy, let's look at an example"
      ]
    },
    {
      "cell_type": "code",
      "metadata": {
        "id": "ksTF4Q0TdWDd",
        "colab_type": "code",
        "colab": {
          "base_uri": "https://localhost:8080/",
          "height": 34
        },
        "outputId": "8a882f60-2a98-4504-a99c-80484f8f6b9f"
      },
      "source": [
        "from sklearn.base import BaseEstimator\n",
        "\n",
        "class Never5Classifier(BaseEstimator):\n",
        "  def fit(self, X, y = None):\n",
        "    pass\n",
        "  def predict(self, X):\n",
        "    return np.zeros( (len(X), 1), dtype = bool)\n",
        "  pass\n",
        "never_5_clf = Never5Classifier()\n",
        "\n",
        "cross_val_score(never_5_clf, X_train, y_train_5, cv = 3, \n",
        "               scoring = 'accuracy')"
      ],
      "execution_count": 66,
      "outputs": [
        {
          "output_type": "execute_result",
          "data": {
            "text/plain": [
              "array([0.91065, 0.90635, 0.91195])"
            ]
          },
          "metadata": {
            "tags": []
          },
          "execution_count": 66
        }
      ]
    },
    {
      "cell_type": "markdown",
      "metadata": {
        "id": "zM0oTOgEd80y",
        "colab_type": "text"
      },
      "source": [
        "This confirms our prediction, without any training over the data we could get at least 90% of accuracy "
      ]
    },
    {
      "cell_type": "markdown",
      "metadata": {
        "id": "DA4wX_kGeLGA",
        "colab_type": "text"
      },
      "source": [
        "## Confusion Matrix"
      ]
    },
    {
      "cell_type": "markdown",
      "metadata": {
        "id": "xQHSP1gFebQ4",
        "colab_type": "text"
      },
      "source": [
        "A better way to see good results is with the confusion matrix. This matrix (in a nutshell) shows how many elements have been classified correctly or wrongly. Based on four categories.\n",
        "\n",
        "\n",
        "*   True Negative:   Elements that are correctly classified as non-five\n",
        "*   False Negative: Elemtents which are five and were classified as non-five\n",
        "*   False Positive:   Elements that are not five but were classified as 5\n",
        "*   True Positive:    Elements that are five and wer ecorrectly classified as 5\n",
        "\n",
        "![Confusion Matrix](https://revolution-computing.typepad.com/.a/6a010534b1db25970b01bb08c97955970d-pi)\n",
        "\n",
        "\n",
        "To use the confusion matrix, we need a set of predictions, we can use \n",
        "\n",
        "```\n",
        "cross_val_predict()\n",
        "\n",
        "```\n",
        "function to keep untouch the test set\n"
      ]
    },
    {
      "cell_type": "code",
      "metadata": {
        "id": "yrm1Sok6g1D6",
        "colab_type": "code",
        "colab": {}
      },
      "source": [
        "from sklearn.model_selection import cross_val_predict\n",
        "\n",
        "cross_val_predict?"
      ],
      "execution_count": 0,
      "outputs": []
    },
    {
      "cell_type": "code",
      "metadata": {
        "id": "RnBbwOtBeI-L",
        "colab_type": "code",
        "colab": {}
      },
      "source": [
        "y_train_pred = cross_val_predict(sgd_clf, X_train, y_train_5, cv = 3)"
      ],
      "execution_count": 0,
      "outputs": []
    },
    {
      "cell_type": "code",
      "metadata": {
        "id": "CHirvjfshjBo",
        "colab_type": "code",
        "colab": {}
      },
      "source": [
        "from sklearn.metrics import confusion_matrix\n",
        "confusion_matrix?"
      ],
      "execution_count": 0,
      "outputs": []
    },
    {
      "cell_type": "code",
      "metadata": {
        "id": "bCdBNSVShuOA",
        "colab_type": "code",
        "colab": {
          "base_uri": "https://localhost:8080/",
          "height": 51
        },
        "outputId": "d9e98679-0b41-4fed-c407-410f8356002b"
      },
      "source": [
        "confusion_matrix(y_train_5, y_train_pred)"
      ],
      "execution_count": 72,
      "outputs": [
        {
          "output_type": "execute_result",
          "data": {
            "text/plain": [
              "array([[52750,  1829],\n",
              "       [  782,  4639]])"
            ]
          },
          "metadata": {
            "tags": []
          },
          "execution_count": 72
        }
      ]
    },
    {
      "cell_type": "markdown",
      "metadata": {
        "id": "fUvpmhwwh-xH",
        "colab_type": "text"
      },
      "source": [
        "We have:\n",
        "\n",
        "*   True Negative (TN): 52,750\n",
        "*   False Negative (FN): 782\n",
        "*   False Positive (FP): 1,829\n",
        "*   True Positive (TP): 4,639 \n",
        "\n"
      ]
    },
    {
      "cell_type": "markdown",
      "metadata": {
        "id": "uku5Xb5upp5B",
        "colab_type": "text"
      },
      "source": [
        "## Precision and Recall"
      ]
    },
    {
      "cell_type": "markdown",
      "metadata": {
        "id": "endl2Ah8iZt3",
        "colab_type": "text"
      },
      "source": [
        "There are two important measures to calculate the performance of the model\n",
        "\n",
        "\n",
        "*   The Precision: It shows how many elements were correctly classified. Accuracy of positive predictions.\n",
        "Formula: $Precision = \\frac{TP}{TP+FP}$\n",
        "*   The recall: It shows how likely is to find all the relevant cases in our prediction. It is also defined as the reatio of positive instances that are correctly classified. Formula: $Recall = \\frac{TP}{TP + FN}$\n",
        "\n",
        "An important thig about these two concepts is that the have both a tradeoff, if the precision increases then the recall decreases and vise-versa"
      ]
    },
    {
      "cell_type": "code",
      "metadata": {
        "id": "B4QJexDAph_y",
        "colab_type": "code",
        "colab": {
          "base_uri": "https://localhost:8080/",
          "height": 51
        },
        "outputId": "b917ffb7-4f7e-49c9-fd42-9e636edfde1b"
      },
      "source": [
        "from sklearn.metrics import precision_score, recall_score\n",
        "\n",
        "print('Precision: {0:.4f}.\\nRecall: {1:.4f}'.format( precision_score(y_train_5, y_train_pred),\n",
        "                                                     recall_score(y_train_5, y_train_pred) ) )"
      ],
      "execution_count": 73,
      "outputs": [
        {
          "output_type": "stream",
          "text": [
            "Precision: 0.7172.\n",
            "Recall: 0.8557\n"
          ],
          "name": "stdout"
        }
      ]
    },
    {
      "cell_type": "markdown",
      "metadata": {
        "id": "J0mnA8LUqYMO",
        "colab_type": "text"
      },
      "source": [
        "We can see that the model only predicts correctly the 71% of the time and it detects 85% of the 5s"
      ]
    },
    {
      "cell_type": "markdown",
      "metadata": {
        "id": "CenT1m7Gqppd",
        "colab_type": "text"
      },
      "source": [
        "Moreover, we can combine precision and recall into a single metric called the $F_{1}$ score. It is the harmonic mean of the precision and recall , and mathematically is defined as follows:\n",
        "\n",
        "$F_{1} = \\frac{2}{ \\frac{1}{precision}+\\frac{1}{recall} } = 2*\\frac{precision*recall}{pecision + recall} = \\frac{TP}{TP +\\frac{FN + FP}{2}}$"
      ]
    },
    {
      "cell_type": "code",
      "metadata": {
        "id": "m1cZyAFjrrCm",
        "colab_type": "code",
        "colab": {
          "base_uri": "https://localhost:8080/",
          "height": 34
        },
        "outputId": "a314fb07-e7ac-42ef-9811-c4ff5d3f19ea"
      },
      "source": [
        "from sklearn.metrics import f1_score\n",
        "\n",
        "print('F1 score: {0:.4f}'.format( f1_score(y_train_5, y_train_pred) ))"
      ],
      "execution_count": 75,
      "outputs": [
        {
          "output_type": "stream",
          "text": [
            "F1 score: 0.7804\n"
          ],
          "name": "stdout"
        }
      ]
    },
    {
      "cell_type": "markdown",
      "metadata": {
        "id": "Ne9wi7JfsGhH",
        "colab_type": "text"
      },
      "source": [
        "The $F_{1}$ score favors the classifiers that have similar precision and recall, but you may not want something like this. Sometimes you care a lot about precision and other times you care about recall\n",
        "\n",
        "\n",
        "**Example:**  \n",
        "\n",
        "\n",
        "1.   If you trained a classifier to detec videos that are good for kids, you may not want to predict good videos (low recall, low variety) but keep only safe ones (high precision)\n",
        "2.   If you trained a classifier to detect shoplifter on surveillance images, it is probably fine if your classifier has only 30% of precision but it has 99% of recall\n"
      ]
    },
    {
      "cell_type": "markdown",
      "metadata": {
        "id": "Ogzdpf5wt-ZW",
        "colab_type": "text"
      },
      "source": [
        "##The Precision/Recall Tradeoff"
      ]
    },
    {
      "cell_type": "markdown",
      "metadata": {
        "id": "qHuppE58uhCK",
        "colab_type": "text"
      },
      "source": [
        "To understand this tradeoff, We must know how the SGDClassifier actually classifies a value.\n",
        "\n",
        "What it does is compute a score based on a *decision function*, if that score is greater that some threshold, it classifies the value as positive, otherwise it is classified as negative.\n",
        "\n",
        "If we increase the threshold, the precision increases (since we are selecting more carefully the elements) but the recall decreases  (since there is no a variety of elements). Now if we decrease the threshold, the oposite occurs; the recall increases but the precision decreases."
      ]
    },
    {
      "cell_type": "markdown",
      "metadata": {
        "id": "AI4Bz4WMvpPy",
        "colab_type": "text"
      },
      "source": [
        "Scikit-Learn doesn't let you see the threshold directly, but is gives you access to the decision scores which uses to make predictions. You can call the \n",
        "\n",
        "```\n",
        "decision_function()\n",
        "```\n",
        "\n",
        "method to get the decision scores and make predictions with the thresholds you want\n"
      ]
    },
    {
      "cell_type": "code",
      "metadata": {
        "id": "d3zeYW5KuVf-",
        "colab_type": "code",
        "colab": {
          "base_uri": "https://localhost:8080/",
          "height": 34
        },
        "outputId": "7180d6dd-9435-4156-d486-3afeb5b7a83c"
      },
      "source": [
        "y_scores = sgd_clf.decision_function([some_digit])\n",
        "y_scores"
      ],
      "execution_count": 77,
      "outputs": [
        {
          "output_type": "execute_result",
          "data": {
            "text/plain": [
              "array([4518.33479308])"
            ]
          },
          "metadata": {
            "tags": []
          },
          "execution_count": 77
        }
      ]
    },
    {
      "cell_type": "code",
      "metadata": {
        "id": "MP4qYNAuxCxe",
        "colab_type": "code",
        "colab": {
          "base_uri": "https://localhost:8080/",
          "height": 34
        },
        "outputId": "06e61e71-cde1-410e-ba2e-a81d8e357b75"
      },
      "source": [
        "threshold = 0\n",
        "y_some_digit_predict = y_scores > threshold\n",
        "y_some_digit_predict"
      ],
      "execution_count": 80,
      "outputs": [
        {
          "output_type": "execute_result",
          "data": {
            "text/plain": [
              "array([ True])"
            ]
          },
          "metadata": {
            "tags": []
          },
          "execution_count": 80
        }
      ]
    },
    {
      "cell_type": "code",
      "metadata": {
        "id": "EZ4EyQ3exUVL",
        "colab_type": "code",
        "colab": {
          "base_uri": "https://localhost:8080/",
          "height": 34
        },
        "outputId": "9e46690b-0f34-4aeb-9ab7-56ce0436f0cc"
      },
      "source": [
        "threshold = 5000\n",
        "\n",
        "y_some_digit_predict = y_scores > threshold\n",
        "y_some_digit_predict"
      ],
      "execution_count": 81,
      "outputs": [
        {
          "output_type": "execute_result",
          "data": {
            "text/plain": [
              "array([False])"
            ]
          },
          "metadata": {
            "tags": []
          },
          "execution_count": 81
        }
      ]
    },
    {
      "cell_type": "markdown",
      "metadata": {
        "id": "hRNg_uRuxa93",
        "colab_type": "text"
      },
      "source": [
        "You can see that increasing the threshold decreases the recall since \n",
        "```\n",
        "some_digit\n",
        "```\n",
        "is a five but is misclassified as non-five\n",
        "\n"
      ]
    },
    {
      "cell_type": "markdown",
      "metadata": {
        "id": "iuW8livzywSZ",
        "colab_type": "text"
      },
      "source": [
        "To decide which threshold to use, you can use again the \n",
        "\n",
        "```\n",
        "cross_val_predict()\n",
        "```\n",
        "function but specifying that you want to return the decision scores insted of predictions\n"
      ]
    },
    {
      "cell_type": "code",
      "metadata": {
        "id": "XzQMti0gzGb2",
        "colab_type": "code",
        "colab": {}
      },
      "source": [
        "y_scores = cross_val_predict(sgd_clf, X_train, y_train_5, cv = 3, \n",
        "                             method = 'decision_function')"
      ],
      "execution_count": 0,
      "outputs": []
    },
    {
      "cell_type": "markdown",
      "metadata": {
        "id": "c4PwuRPnzlf1",
        "colab_type": "text"
      },
      "source": [
        "Now with the scores, you can compute the precision and reacll for all possible thresholds using the \n",
        "\n",
        "```\n",
        "# Tiene formato de código\n",
        "precision_recall_curve\n",
        "```\n",
        "function\n",
        "\n"
      ]
    },
    {
      "cell_type": "code",
      "metadata": {
        "id": "eHpDvKr5zyFL",
        "colab_type": "code",
        "colab": {}
      },
      "source": [
        "from sklearn.metrics import precision_recall_curve\n",
        "\n",
        "precision, recall, thresholds = precision_recall_curve(y_train_5, y_scores)"
      ],
      "execution_count": 0,
      "outputs": []
    },
    {
      "cell_type": "code",
      "metadata": {
        "id": "x2pbR1700B0i",
        "colab_type": "code",
        "colab": {
          "base_uri": "https://localhost:8080/",
          "height": 283
        },
        "outputId": "36bf7214-4042-4a5b-91d4-f34778f1b573"
      },
      "source": [
        "def plot_precision_recall_vs_thresholds(precision, recall, thresholds):\n",
        "  plt.plot( thresholds, recall[:-1], c = 'salmon', label = 'Recall')\n",
        "  plt.plot( thresholds, precision[:-1], c = 'skyblue', label = 'Precision' )\n",
        "  plt.grid(False)\n",
        "  plt.xlabel('Thresholds')\n",
        "  plt.ylim([0,1])\n",
        "  plt.legend()\n",
        "  pass\n",
        "plot_precision_recall_vs_thresholds(precision, recall, thresholds)\n",
        "plt.show()"
      ],
      "execution_count": 86,
      "outputs": [
        {
          "output_type": "display_data",
          "data": {
            "image/png": "[encoded data removed]",
            "text/plain": [
              "<Figure size 432x288 with 1 Axes>"
            ]
          },
          "metadata": {
            "tags": []
          }
        }
      ]
    },
    {
      "cell_type": "code",
      "metadata": {
        "id": "tLoodtNn1SZp",
        "colab_type": "code",
        "colab": {
          "base_uri": "https://localhost:8080/",
          "height": 34
        },
        "outputId": "cf07b3b3-e131-40cb-ed27-bd86544e257e"
      },
      "source": [
        "( precision.shape, recall.shape )"
      ],
      "execution_count": 87,
      "outputs": [
        {
          "output_type": "execute_result",
          "data": {
            "text/plain": [
              "((59986,), (59986,))"
            ]
          },
          "metadata": {
            "tags": []
          },
          "execution_count": 87
        }
      ]
    },
    {
      "cell_type": "code",
      "metadata": {
        "id": "ShQGHYMp1mF_",
        "colab_type": "code",
        "colab": {
          "base_uri": "https://localhost:8080/",
          "height": 300
        },
        "outputId": "193c44a3-ab74-4fbb-ad5a-93e691719c76"
      },
      "source": [
        "plt.plot( recall[:-1], precision[:-1] )\n",
        "plt.xlabel('Recall')\n",
        "plt.ylabel('Precision')"
      ],
      "execution_count": 91,
      "outputs": [
        {
          "output_type": "execute_result",
          "data": {
            "text/plain": [
              "Text(0, 0.5, 'Precision')"
            ]
          },
          "metadata": {
            "tags": []
          },
          "execution_count": 91
        },
        {
          "output_type": "display_data",
          "data": {
            "image/png": "[encoded data removed]",
            "text/plain": [
              "<Figure size 432x288 with 1 Axes>"
            ]
          },
          "metadata": {
            "tags": []
          }
        }
      ]
    }
  ]
}